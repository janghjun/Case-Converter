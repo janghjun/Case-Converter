{
  "nbformat": 4,
  "nbformat_minor": 0,
  "metadata": {
    "colab": {
      "provenance": [],
      "collapsed_sections": [
        "GOm1EQ4oJfOH"
      ],
      "authorship_tag": "ABX9TyNjgJyM6UD3CHUg7m3tnZdc",
      "include_colab_link": true
    },
    "kernelspec": {
      "name": "python3",
      "display_name": "Python 3"
    },
    "language_info": {
      "name": "python"
    }
  },
  "cells": [
    {
      "cell_type": "markdown",
      "metadata": {
        "id": "view-in-github",
        "colab_type": "text"
      },
      "source": [
        "<a href=\"https://colab.research.google.com/github/janghjun/Case-Converter/blob/main/CheonanDay01.ipynb\" target=\"_parent\"><img src=\"https://colab.research.google.com/assets/colab-badge.svg\" alt=\"Open In Colab\"/></a>"
      ]
    },
    {
      "cell_type": "markdown",
      "source": [
        "#1. 텍스트 기본 설정\n",
        "- 텍스트 입력시 강조 표현 : #\n",
        "# - 리스트 표현 : -"
      ],
      "metadata": {
        "id": "pcAGhzT9KQdX"
      }
    },
    {
      "cell_type": "markdown",
      "source": [
        "#hello world"
      ],
      "metadata": {
        "id": "GOm1EQ4oJfOH"
      }
    },
    {
      "cell_type": "markdown",
      "source": [
        "##hello world"
      ],
      "metadata": {
        "id": "NNiQ09dRJnSS"
      }
    },
    {
      "cell_type": "markdown",
      "source": [
        "###hello world"
      ],
      "metadata": {
        "id": "7ffw8HMzJx46"
      }
    },
    {
      "cell_type": "markdown",
      "source": [
        "- 1"
      ],
      "metadata": {
        "id": "mDZVrCxjKBfV"
      }
    },
    {
      "cell_type": "markdown",
      "source": [
        "- 1\n",
        " - 2"
      ],
      "metadata": {
        "id": "PEpnp2bPKNSg"
      }
    },
    {
      "cell_type": "code",
      "source": [],
      "metadata": {
        "id": "9MEJMAc5KOpt"
      },
      "execution_count": null,
      "outputs": []
    },
    {
      "cell_type": "markdown",
      "source": [
        "hello world"
      ],
      "metadata": {
        "id": "lVdSihsLJbJv"
      }
    },
    {
      "cell_type": "markdown",
      "source": [
        "#2. 쉘 단축키\n",
        "- 쉘 생성 : ctrl + M + A\n",
        "- 쉘 삭제 : ctrl + M + D\n",
        "- 코드 변경 : ctrl + M + Y\n",
        "- 텍스트 변경 : ctrl + M + M"
      ],
      "metadata": {
        "id": "hudJkzJYKry2"
      }
    },
    {
      "cell_type": "code",
      "source": [],
      "metadata": {
        "id": "Z-MkQ6MbLvfw"
      },
      "execution_count": null,
      "outputs": []
    }
  ]
}